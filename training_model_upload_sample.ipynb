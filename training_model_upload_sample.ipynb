{
 "cells": [
  {
   "cell_type": "code",
   "execution_count": null,
   "metadata": {},
   "outputs": [],
   "source": [
    "import os\n",
    "import tempfile\n",
    "\n",
    "from abeja.models import APIClient"
   ]
  },
  {
   "cell_type": "code",
   "execution_count": null,
   "metadata": {},
   "outputs": [],
   "source": [
    "api = APIClient()\n",
    "\n",
    "_organization_id = os.environ['ABEJA_ORGANIZATION_ID']\n",
    "_job_definition_name = os.environ['TRAINING_JOB_DEFINITION_NAME']"
   ]
  },
  {
   "cell_type": "code",
   "execution_count": null,
   "metadata": {},
   "outputs": [],
   "source": [
    "for i in range(1):\n",
    "    with tempfile.NamedTemporaryFile() as tf:\n",
    "        tf.write((\"{}\".format(i)).encode('utf-8'))\n",
    "        tf.seek(0)\n",
    "        model_data = tf\n",
    "        parameters = {\n",
    "            'description': \"Description {}\".format(i),\n",
    "            'user_parameters': {\n",
    "                'loss': '0.9',\n",
    "                'accuracy': '0.99',\n",
    "                'c': '1e-5'\n",
    "            }\n",
    "        }\n",
    "        api.create_training_model(\n",
    "            organization_id=_organization_id,\n",
    "            job_definition_name=_job_definition_name,\n",
    "            model_data=model_data,\n",
    "            parameters=parameters\n",
    "        )"
   ]
  },
  {
   "cell_type": "code",
   "execution_count": null,
   "metadata": {},
   "outputs": [],
   "source": []
  }
 ],
 "metadata": {
  "kernelspec": {
   "display_name": "Python 3",
   "language": "python",
   "name": "python3"
  },
  "language_info": {
   "codemirror_mode": {
    "name": "ipython",
    "version": 3
   },
   "file_extension": ".py",
   "mimetype": "text/x-python",
   "name": "python",
   "nbconvert_exporter": "python",
   "pygments_lexer": "ipython3",
   "version": "3.6.7"
  }
 },
 "nbformat": 4,
 "nbformat_minor": 2
}
